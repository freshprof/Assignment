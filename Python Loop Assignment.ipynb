{
 "cells": [
  {
   "cell_type": "markdown",
   "metadata": {},
   "source": [
    "## AKINDELE ANUOLUWAPO"
   ]
  },
  {
   "cell_type": "markdown",
   "metadata": {},
   "source": [
    "#### Q1:  Write a program using the following list and sort it based on the sum of the values of the tuples of the\n",
    "list: [(1,5),(9,0),(12,3),(5,4),(13,6),(1,1)]"
   ]
  },
  {
   "cell_type": "code",
   "execution_count": 46,
   "metadata": {},
   "outputs": [
    {
     "data": {
      "text/plain": [
       "[2, 6, 9, 9, 15, 19]"
      ]
     },
     "execution_count": 46,
     "metadata": {},
     "output_type": "execute_result"
    }
   ],
   "source": [
    "lst1=[(1,5),(9,0),(12,3),(5,4),(13,6),(1,1)]\n",
    "\n",
    "#Create an empty list to store the result \n",
    "# lst2=[]\n",
    "#go through lst1, sum up the values in the tuple\n",
    "# for i in lst1:\n",
    "#     add_tup=sum(i)\n",
    "#     lst2.append(add_tup) #appen the sum to the empty list\n",
    "# #sort the list based on the values of the sum operaton\n",
    "# lst2.sort()      \n",
    "# lst2\n",
    "result=[sum(i) for i in lst1]\n",
    "result.sort()\n",
    "result"
   ]
  },
  {
   "cell_type": "markdown",
   "metadata": {},
   "source": [
    "#### Q2. Given two Python lists, Iterate both lists simultaneously such that list1 should display item in original orderand list2 in reverse order: \n",
    "list1 = [10, 20, 30, 40], list2 = [100, 200, 300, 400]"
   ]
  },
  {
   "cell_type": "code",
   "execution_count": 47,
   "metadata": {},
   "outputs": [
    {
     "data": {
      "text/plain": [
       "{10: 400, 20: 300, 30: 200, 40: 100}"
      ]
     },
     "execution_count": 47,
     "metadata": {},
     "output_type": "execute_result"
    }
   ],
   "source": [
    "list1 = [10, 20, 30, 40]\n",
    "list2 = [100, 200, 300, 400]\n",
    "\n",
    "result = dict(zip(list1,list2[::-1]))\n",
    "                  \n",
    "result"
   ]
  },
  {
   "cell_type": "markdown",
   "metadata": {},
   "source": [
    "#### Q3 Given number 1 through 10, write a program to display \"Even\" for even numbers and \"Odd\" for odd numbers."
   ]
  },
  {
   "cell_type": "code",
   "execution_count": 48,
   "metadata": {},
   "outputs": [
    {
     "name": "stdout",
     "output_type": "stream",
     "text": [
      "Odd\n",
      "Even\n",
      "Odd\n",
      "Even\n",
      "Odd\n",
      "Even\n",
      "Odd\n",
      "Even\n",
      "Odd\n",
      "Even\n"
     ]
    }
   ],
   "source": [
    "#Given number 1 through 10, write a program to display \"Even\" for even numbers and \"Odd\" for odd numbers.\n",
    "for i in range(1,11):\n",
    "    if i%2==0:\n",
    "        print('Even')\n",
    "    else:\n",
    "        print('Odd')\n"
   ]
  },
  {
   "cell_type": "markdown",
   "metadata": {},
   "source": [
    "#### Q4. Write a Python program to count the number of strings where the string length is 2 or more and the first and last character are same from a given list of strings:\n",
    "['abc', 'xyz', 'aba', '1221', 'bhgsskknb', 'aa', 'd'] "
   ]
  },
  {
   "cell_type": "code",
   "execution_count": 49,
   "metadata": {},
   "outputs": [
    {
     "name": "stdout",
     "output_type": "stream",
     "text": [
      "aba\n",
      "1221\n",
      "bhgsskknb\n",
      "aa\n"
     ]
    }
   ],
   "source": [
    "lst=['abc', 'xyz', 'aba', '1221', 'bhgsskknb', 'aa', 'd']\n",
    "for i in lst:\n",
    "    if len(i)>=2 and i[0]==i[-1]:\n",
    "        print(i)"
   ]
  },
  {
   "cell_type": "markdown",
   "metadata": {},
   "source": [
    "#### Q5. Write a program to collect 5 different numbers from a user and display the average of the five numbers without storing the values collected at any point."
   ]
  },
  {
   "cell_type": "code",
   "execution_count": 50,
   "metadata": {},
   "outputs": [
    {
     "name": "stdout",
     "output_type": "stream",
     "text": [
      "Enter first number: 9\n",
      "Enter first number: 4\n",
      "Enter first number: 9\n",
      "Enter first number: 1\n",
      "Enter first number: 3\n",
      "The mean is:, 5.2\n"
     ]
    }
   ],
   "source": [
    "#Ask user for imput numbers\n",
    "num=[]\n",
    "for i in range(5):\n",
    "    get=float(input(\"Enter first number: \"))\n",
    "    num.append(get)\n",
    "#mean=sum(num)/5\n",
    "print(f'The mean is:, {sum(num)/5}')"
   ]
  },
  {
   "cell_type": "markdown",
   "metadata": {},
   "source": [
    "####  Q6.Write a program such that \"list1\" will act as keys while \"list2\" will act as the values of the dictionary:\n",
    "- list1 = [1, 2, 3, 4, 5], list2 = [\"a\", \"b\", \"c\",\"d\", \"e\"] "
   ]
  },
  {
   "cell_type": "code",
   "execution_count": 51,
   "metadata": {},
   "outputs": [
    {
     "data": {
      "text/plain": [
       "{1: 'a', 2: 'b', 3: 'c', 4: 'd', 5: 'e'}"
      ]
     },
     "execution_count": 51,
     "metadata": {},
     "output_type": "execute_result"
    }
   ],
   "source": [
    "list1 = [1, 2, 3, 4, 5]\n",
    "list2 = [\"a\", \"b\", \"c\",\"d\", \"e\"]\n",
    "\n",
    "#Method 1- Dict comprehension\n",
    "\n",
    "result = {list1[i]: list2[i] for i in range(len(list1))}\n",
    "result"
   ]
  },
  {
   "cell_type": "code",
   "execution_count": 52,
   "metadata": {},
   "outputs": [
    {
     "name": "stdout",
     "output_type": "stream",
     "text": [
      "{1: 'a', 2: 'b', 3: 'c', 4: 'd', 5: 'e'}\n"
     ]
    }
   ],
   "source": [
    "list1 = [1, 2, 3, 4, 5]\n",
    "list2 = [\"a\", \"b\", \"c\",\"d\", \"e\"]\n",
    "\n",
    "#Method 2- convert list to dict using zip()\n",
    "result = dict(zip(list1, list2))\n",
    "print(result)"
   ]
  }
 ],
 "metadata": {
  "kernelspec": {
   "display_name": "Python 3 (ipykernel)",
   "language": "python",
   "name": "python3"
  },
  "language_info": {
   "codemirror_mode": {
    "name": "ipython",
    "version": 3
   },
   "file_extension": ".py",
   "mimetype": "text/x-python",
   "name": "python",
   "nbconvert_exporter": "python",
   "pygments_lexer": "ipython3",
   "version": "3.9.12"
  }
 },
 "nbformat": 4,
 "nbformat_minor": 4
}
